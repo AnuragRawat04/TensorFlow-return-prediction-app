{
 "cells": [
  {
   "cell_type": "code",
   "execution_count": 7,
   "id": "a25879d0",
   "metadata": {},
   "outputs": [
    {
     "name": "stderr",
     "output_type": "stream",
     "text": [
      "WARNING:absl:Compiled the loaded model, but the compiled metrics have yet to be built. `model.compile_metrics` will be empty until you train or evaluate the model.\n"
     ]
    }
   ],
   "source": [
    "import numpy as np\n",
    "import pandas as pd\n",
    "import pickle\n",
    "import tensorflow as tf\n",
    "\n",
    "# Load trained model\n",
    "model = tf.keras.models.load_model('return_ann_model_v1.h5')\n",
    "with open('gender_encoder.pkl', 'rb') as f:\n",
    "    gender_encoder = pickle.load(f)\n",
    "\n",
    "with open('status_encoder.pkl', 'rb') as f:\n",
    "    label_encoder_status = pickle.load(f)\n",
    "\n",
    "with open('product_label_encoder.pkl', 'rb') as f:\n",
    "    product_label_encoder = pickle.load(f)\n",
    "\n",
    "with open('payment_encoder.pkl', 'rb') as f:\n",
    "    payment_encoder = pickle.load(f)\n",
    "\n",
    "with open('shipping_encoder.pkl', 'rb') as file:\n",
    "    shipping_encoder = pickle.load(file)\n",
    "\n",
    "with open('return_reason_encoder.pkl', 'rb') as file:\n",
    "    return_encoder = pickle.load(file)\n",
    "\n",
    "with open('scaler.pkl', 'rb') as file:\n",
    "    scaler = pickle.load(file)"
   ]
  },
  {
   "cell_type": "code",
   "execution_count": 8,
   "id": "056cd35d",
   "metadata": {},
   "outputs": [
    {
     "name": "stdout",
     "output_type": "stream",
     "text": [
      "\u001b[1m1/1\u001b[0m \u001b[32m━━━━━━━━━━━━━━━━━━━━\u001b[0m\u001b[37m\u001b[0m \u001b[1m0s\u001b[0m 49ms/step\n",
      "Prediction: [[0.6185976]]\n"
     ]
    },
    {
     "name": "stderr",
     "output_type": "stream",
     "text": [
      "c:\\Users\\ANURAG RAWAT\\anaconda3\\envs\\arnav\\Lib\\site-packages\\sklearn\\utils\\validation.py:2749: UserWarning: X does not have valid feature names, but StandardScaler was fitted with feature names\n",
      "  warnings.warn(\n"
     ]
    }
   ],
   "source": [
    "import numpy as np\n",
    "\n",
    "# Sample input\n",
    "input_data = {\n",
    "    'Product_Category': 'Electronics',\n",
    "    'User_Age': 28,\n",
    "    'User_Gender': 'Female',\n",
    "    'Payment_Method': 'Credit Card',\n",
    "    'Return_Reason': 'Not as described',\n",
    "    'Shipping_Method': 'Express'\n",
    "}\n",
    "\n",
    "# Label encoding\n",
    "product_category = product_label_encoder.transform([input_data['Product_Category']])[0]\n",
    "user_gender = gender_encoder.transform([input_data['User_Gender']])[0]\n",
    "\n",
    "# One-hot encoding (manual, since you dropped original columns)\n",
    "payment_methods = ['Credit Card', 'Debit Card', 'Gift Card', 'PayPal']\n",
    "payment_onehot = [1 if input_data['Payment_Method'] == method else 0 for method in payment_methods]\n",
    "\n",
    "return_reasons = ['Changed mind', 'Defective', 'Not as described', 'Wrong item', 'nan']\n",
    "return_onehot = [1 if input_data['Return_Reason'] == reason else 0 for reason in return_reasons]\n",
    "\n",
    "shipping_methods = ['Express', 'Next-Day', 'Standard']\n",
    "shipping_onehot = [1 if input_data['Shipping_Method'] == method else 0 for method in shipping_methods]\n",
    "\n",
    "# Combine all features in the correct order\n",
    "input_encoded = np.array([[\n",
    "    product_category,\n",
    "    input_data['User_Age'],\n",
    "    user_gender,\n",
    "    *payment_onehot,\n",
    "    *return_onehot,\n",
    "    *shipping_onehot\n",
    "]])\n",
    "\n",
    "# Scale the input\n",
    "input_scaled = scaler.transform(input_encoded)\n",
    "\n",
    "# Prediction\n",
    "prediction = model.predict(input_scaled)\n",
    "print(\"Prediction:\", prediction)\n"
   ]
  }
 ],
 "metadata": {
  "kernelspec": {
   "display_name": "arnav",
   "language": "python",
   "name": "python3"
  },
  "language_info": {
   "codemirror_mode": {
    "name": "ipython",
    "version": 3
   },
   "file_extension": ".py",
   "mimetype": "text/x-python",
   "name": "python",
   "nbconvert_exporter": "python",
   "pygments_lexer": "ipython3",
   "version": "3.12.11"
  }
 },
 "nbformat": 4,
 "nbformat_minor": 5
}
